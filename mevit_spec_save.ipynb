{
 "cells": [
  {
   "cell_type": "markdown",
   "metadata": {},
   "source": [
    "### 0. 모델 로드 및 전처리 등 실험과 상관 없는 내용"
   ]
  },
  {
   "cell_type": "code",
   "execution_count": 1,
   "metadata": {},
   "outputs": [
    {
     "name": "stdout",
     "output_type": "stream",
     "text": [
      "Files already downloaded and verified\n",
      "Files already downloaded and verified\n"
     ]
    }
   ],
   "source": [
    "import torch\n",
    "import torch.nn as nn\n",
    "import torch.nn.functional as F\n",
    "from torch.utils.data import DataLoader\n",
    "from torchvision import models,datasets, transforms\n",
    "from mevit_model import MultiExitViT\n",
    "from tqdm import tqdm\n",
    "from itertools import combinations\n",
    "import numpy as np\n",
    "from scipy.stats import entropy\n",
    "from temperature_scaling import TemperatureScaling\n",
    "from Dloaders import Dloaders\n",
    "####################################################################\n",
    "IMG_SIZE = 224\n",
    "device = 'cuda' if torch.cuda.is_available() else 'cpu'\n",
    "dataset_name = {'cifar10':datasets.CIFAR10, 'cifar100':datasets.CIFAR100,'imagenet':None}\n",
    "dataset_outdim = {'cifar10':10, 'cifar100':100,'imagenet':1000}\n",
    "##############################################################\n",
    "################ 0. Hyperparameters ##########################\n",
    "##############################################################\n",
    "batch_size = 1024\n",
    "data_choice='cifar100'\n",
    "mevit_isload=True\n",
    "mevit_pretrained_path=f\"models/{data_choice}/integrated_ee.pth\"\n",
    "\n",
    "backbone_path=f'models/{data_choice}/vit_{data_choice}_backbone.pth'\n",
    "start_lr=1e-4\n",
    "max_iter=200\n",
    "\n",
    "ee_list=[0,1,2,3,4,5,6,7,8,9]#exit list ex) [0,1,2,3,4,5,6,7,8,9]\n",
    "exit_loss_weights=[1,1,1,1,1,1,1,1,1,1,1]#exit마다 가중치\n",
    "exit_num=11\n",
    "##############################################################\n",
    "dloaders=Dloaders(data_choice=data_choice,batch_size=batch_size,IMG_SIZE=IMG_SIZE)\n",
    "train_loader,test_loader = dloaders.get_loaders()\n",
    "\n",
    "# Load the pretrained ViT model from the saved file\n",
    "pretrained_vit = models.vit_b_16(weights=models.ViT_B_16_Weights.DEFAULT)\n",
    "\n",
    "if data_choice != 'imagenet':\n",
    "    pretrained_vit.heads.head = nn.Linear(pretrained_vit.heads.head.in_features, dataset_outdim[data_choice])  # Ensure output matches the number of classes\n",
    "\n",
    "    # Load model weights\n",
    "    pretrained_vit.load_state_dict(torch.load(backbone_path))\n",
    "    pretrained_vit = pretrained_vit.to(device)\n",
    "#from torchinfo import summary\n",
    "#summary(pretrained_vit,input_size= (64, 3, IMG_SIZE, IMG_SIZE))\n",
    "\n",
    "model = MultiExitViT(pretrained_vit,num_classes=dataset_outdim[data_choice],ee_list=ee_list,exit_loss_weights=exit_loss_weights).to(device)\n",
    "\n",
    "# Assume a pretrained model (replace with your own model)\n",
    "model.load_state_dict(torch.load(mevit_pretrained_path))  # Load your trained weights\n",
    "file_path = f'cache_result_mevit_{data_choice}.pt'"
   ]
  },
  {
   "cell_type": "markdown",
   "metadata": {},
   "source": [
    "### 1. MEVIT의 각 출구들에서의 Precision을 확인"
   ]
  },
  {
   "cell_type": "code",
   "execution_count": null,
   "metadata": {},
   "outputs": [],
   "source": [
    "cifar10_accs = [72.76, 80.35, 85.8, 89.42, 91.98, 93.12, 94.94, 96.44, 96.95, 97.35, 97.63]\n",
    "cifar100_accs = [48.21, 59.63, 67.93, 73.31, 77.9, 80.8, 83.71, 85.33, 86.61, 87.04, 87.75]\n",
    "imagenet_accs = []"
   ]
  },
  {
   "cell_type": "markdown",
   "metadata": {},
   "source": [
    "### 2. MEVIT의 각 출구들까지의 FLOPs 확인"
   ]
  },
  {
   "cell_type": "code",
   "execution_count": null,
   "metadata": {},
   "outputs": [],
   "source": [
    "# from torchinfo import summary\n",
    "# model.set_each_ee_test_mode(10)\n",
    "# summary(model,input_size= (1, 3, IMG_SIZE, IMG_SIZE))\n",
    "FLOPs_list=[125.29, 130.01, 134.74, 139.46, 144.19, 148.91, 153.64, 158.36, 163.09, 167.82, 172.54]"
   ]
  }
 ],
 "metadata": {
  "kernelspec": {
   "display_name": "_torch",
   "language": "python",
   "name": "python3"
  },
  "language_info": {
   "codemirror_mode": {
    "name": "ipython",
    "version": 3
   },
   "file_extension": ".py",
   "mimetype": "text/x-python",
   "name": "python",
   "nbconvert_exporter": "python",
   "pygments_lexer": "ipython3",
   "version": "3.9.7"
  }
 },
 "nbformat": 4,
 "nbformat_minor": 2
}
